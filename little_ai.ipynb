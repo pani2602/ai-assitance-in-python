{
 "cells": [
  {
   "cell_type": "code",
   "execution_count": 1,
   "metadata": {
    "scrolled": true
   },
   "outputs": [
    {
     "name": "stdout",
     "output_type": "stream",
     "text": [
      "listing......\n",
      "recognizing....\n",
      "your query:where is bangalore\n",
      "listing......\n",
      "recognizing....\n",
      "\n",
      "i didnt listen anything\n",
      "listing......\n",
      "recognizing....\n",
      "your query:not babe\n",
      "listing......\n",
      "recognizing....\n",
      "\n",
      "i didnt listen anything\n",
      "listing......\n",
      "recognizing....\n",
      "your query:exit\n"
     ]
    }
   ],
   "source": [
    "import pyttsx3\n",
    "import datetime\n",
    "import speech_recognition as sr\n",
    "import wikipedia as wiki\n",
    "import webbrowser as wb\n",
    "import psutil\n",
    "import pyjokes\n",
    "import os\n",
    "import random \n",
    "import wolframalpha\n",
    "import pyautogui\n",
    "import cv2\n",
    "import time\n",
    "import numpy as np\n",
    "engine = pyttsx3.init()\n",
    "engine.runAndWait()\n",
    "voices=engine.getProperty('voices')\n",
    "engine.setProperty('voice', voices[1].id)\n",
    "\n",
    "def speak(audio):\n",
    "    engine.say(audio)\n",
    "    engine.runAndWait()\n",
    "\n",
    "def Time():\n",
    "    tim=datetime.datetime.now().strftime(\"%I:%M:%S\")\n",
    "    speak('the current time is')\n",
    "    speak(tim)\n",
    "    \n",
    "def Date():\n",
    "    date=datetime.date.today()\n",
    "    speak('today is')\n",
    "    speak(date)\n",
    "    \n",
    "def command():\n",
    "    r=sr.Recognizer()\n",
    "    with sr.Microphone() as source:\n",
    "        r.adjust_for_ambient_noise(source,duration=0.2)\n",
    "        print('listing......')\n",
    "        audio=r.listen(source)\n",
    "        \n",
    "    try:\n",
    "        print('recognizing....')\n",
    "        query = r.recognize_google(audio,language='en-US').lower()\n",
    "        print('your query:'+query)\n",
    "        return query\n",
    "        \n",
    "    except Exception as e:\n",
    "        print(e)\n",
    "        print('i didnt listen anything')\n",
    "        return \"None\"\n",
    "    \n",
    "def google():\n",
    "    speak('what should i search in google')\n",
    "    query = command()\n",
    "    url = \"https://www.google.com.tr/search?q={}\".format(query)\n",
    "    wb.open_new_tab(url)\n",
    "        \n",
    "if __name__ == '__main__':\n",
    "    clear = lambda: os.system('cls')\n",
    "    clear()\n",
    "    now=datetime.datetime.now().hour\n",
    "    if(6<=now<12):\n",
    "        speak('good morning pani')\n",
    "    elif(12<=now<15):\n",
    "        speak('good afternoon pani')\n",
    "    elif(15<=now<19):\n",
    "        speak('good evening pani')\n",
    "    elif(19<=now<23):\n",
    "        speak('good night pani')\n",
    "    else:\n",
    "        speak('what time is it go and sleep')\n",
    "        \n",
    "    Time()\n",
    "    Date()\n",
    "    speak('im always at your service!! tell me what to do')\n",
    "    while(1):\n",
    "        query = command()\n",
    "        if 'time' in query:\n",
    "            Time()\n",
    "        elif 'date' in query:\n",
    "            Date()\n",
    "        elif 'wikipedia' in query:\n",
    "            speak('what should i search in wikipedia')\n",
    "            query = command()\n",
    "            result=wiki.summary(query,sentences=3)\n",
    "            print(result)\n",
    "            speak(result)\n",
    "#may generate ambious error \n",
    "        elif 'open google' in query:\n",
    "           google()\n",
    "    \n",
    "        elif 'open youtube' in query:\n",
    "            speak('what should i search in youtube')\n",
    "            query = command()\n",
    "            wb.open('https://www.youtube.com/results?search_query='+query)\n",
    "        \n",
    "        elif 'system status' in query:\n",
    "            usage = str(psutil.cpu_percent())\n",
    "            speak('cpu usage percentage is at'+usage)\n",
    "            battery = psutil.sensors_battery()\n",
    "            speak('battery is at a percentage of')\n",
    "            speak(battery.percent)\n",
    "    \n",
    "        elif 'joke' in query:\n",
    "            speak(pyjokes.get_joke())\n",
    "    \n",
    "        elif 'yourself' in query:\n",
    "            speak(\"iam just a python application,\"\n",
    "                 \"im created by pani to make your life easy,\"\n",
    "                 \"im always at your service and i will always help you at my level\")\n",
    "        \n",
    "        elif 'log out' in query:\n",
    "            os.system(\"shutdown -l\")\n",
    "        elif 'restart' in query:\n",
    "            os.system(\"shutdown /r /t 1\")\n",
    "        elif 'shutdown' in query:\n",
    "            os.system(\"shutdown /s /t 1\")\n",
    "        elif 'songs' in query:\n",
    "            path = r\"C:\\Users\\91967\\Music\\Songs\"\n",
    "            files=os.listdir(path)\n",
    "            d=random.choice(files)\n",
    "            print(d)\n",
    "            speak('playing'+d)\n",
    "            os.startfile(os.path.join(path,d))\n",
    "        elif 'offline' in query or 'bye' in query or 'exit' in query:\n",
    "            speak('going offline byeee pani!')\n",
    "            break\n",
    "        elif 'stop listening' in query or 'sleep' in query or 'wait' in query:\n",
    "            speak('could you specify time in seconds to stop listening')\n",
    "            a = float(command())\n",
    "            time.sleep(a)\n",
    "        elif 'calculate' in query or 'who' in query or 'what' in query:\n",
    "            app_id = \"TGQK5X-9569RA4GHT\"\n",
    "            client = wolframalpha.Client(app_id)\n",
    "            res = client.query(query)\n",
    "            answer = next(res.results).text\n",
    "            print(answer)\n",
    "            speak(answer)\n",
    "        elif 'where is' in query:\n",
    "            query = query.replace('where is',\"\")\n",
    "            speak('opening'+query+'in maps')\n",
    "            wb.open(\"https://www.google.com/maps/place/\"+ query + \"\")\n",
    "            \n",
    "        elif 'screenshot' in query:\n",
    "            img = pyautogui.screenshot()\n",
    "            img.save(r'C:\\Users\\91967\\Pictures\\Screenshots\\img from python\\sc.png')\n",
    "            speak('done pani')\n",
    "            cv2.imshow('pic',frame)\n",
    "            if cv2.waitKey(1) & 0xFF == ord('q'):\n",
    "                cv2.imwrite('test.jpg',frame)\n",
    "                break\n",
    "            \n",
    "        elif 'open camera' in query or 'take picture' in query:\n",
    "            camera = cv2.VideoCapture(0)\n",
    "            while(1):\n",
    "                ret,frame = camera.read()\n",
    "                if ret == True:\n",
    "                    cv2.imshow('pic',frame)\n",
    "                    if cv2.waitKey(1) & 0xFF == ord('q'):\n",
    "                        cv2.imwrite('test.jpg',frame)\n",
    "                        break\n",
    "                else:\n",
    "                    break\n",
    "            camera.release()\n",
    "            cv2.destroyAllWindows()\n",
    "        elif 'None' in query:\n",
    "            pass\n",
    "        else:\n",
    "            speak('sorry i didnt get that can i search in google')\n",
    "            query = command()\n",
    "            if 'yes' in query or 'yeah' in query:\n",
    "                google()\n",
    "            else:\n",
    "                speak('say command again')\n",
    "                pass\n",
    "        \n",
    "#what if i give command like what is screenshot\n",
    "#asking name and pronouning that name"
   ]
  },
  {
   "cell_type": "code",
   "execution_count": null,
   "metadata": {},
   "outputs": [],
   "source": [
    "\n",
    "\n"
   ]
  },
  {
   "cell_type": "code",
   "execution_count": null,
   "metadata": {},
   "outputs": [],
   "source": [
    "camera.release()\n",
    "cv2.destroyAllWindows()"
   ]
  },
  {
   "cell_type": "code",
   "execution_count": 34,
   "metadata": {},
   "outputs": [
    {
     "data": {
      "text/plain": [
       "True"
      ]
     },
     "execution_count": 34,
     "metadata": {},
     "output_type": "execute_result"
    }
   ],
   "source": []
  },
  {
   "cell_type": "code",
   "execution_count": 4,
   "metadata": {},
   "outputs": [],
   "source": [
    "#time function\n",
    "\n",
    "\n"
   ]
  },
  {
   "cell_type": "code",
   "execution_count": 14,
   "metadata": {},
   "outputs": [],
   "source": [
    "#date function\n"
   ]
  },
  {
   "cell_type": "code",
   "execution_count": 5,
   "metadata": {},
   "outputs": [],
   "source": [
    "#welcome\n"
   ]
  },
  {
   "cell_type": "code",
   "execution_count": 8,
   "metadata": {},
   "outputs": [],
   "source": [
    "#wishme \n",
    "\n"
   ]
  },
  {
   "cell_type": "code",
   "execution_count": 9,
   "metadata": {},
   "outputs": [
    {
     "name": "stdout",
     "output_type": "stream",
     "text": [
      "listing......\n",
      "recognizing....\n",
      "tata plant\n"
     ]
    },
    {
     "data": {
      "text/plain": [
       "'tata plant'"
      ]
     },
     "execution_count": 9,
     "metadata": {},
     "output_type": "execute_result"
    }
   ],
   "source": []
  },
  {
   "cell_type": "code",
   "execution_count": 10,
   "metadata": {},
   "outputs": [
    {
     "ename": "SyntaxError",
     "evalue": "unexpected EOF while parsing (<ipython-input-10-5dd3499c05d5>, line 2)",
     "output_type": "error",
     "traceback": [
      "\u001b[1;36m  File \u001b[1;32m\"<ipython-input-10-5dd3499c05d5>\"\u001b[1;36m, line \u001b[1;32m2\u001b[0m\n\u001b[1;33m    if 'time' in query:\u001b[0m\n\u001b[1;37m                       ^\u001b[0m\n\u001b[1;31mSyntaxError\u001b[0m\u001b[1;31m:\u001b[0m unexpected EOF while parsing\n"
     ]
    }
   ],
   "source": [
    "\n",
    "        "
   ]
  },
  {
   "cell_type": "code",
   "execution_count": 38,
   "metadata": {},
   "outputs": [
    {
     "ename": "NameError",
     "evalue": "name 'self' is not defined",
     "output_type": "error",
     "traceback": [
      "\u001b[1;31m---------------------------------------------------------------------------\u001b[0m",
      "\u001b[1;31mNameError\u001b[0m                                 Traceback (most recent call last)",
      "\u001b[1;32m<ipython-input-38-62ca8e75a9be>\u001b[0m in \u001b[0;36m<module>\u001b[1;34m\u001b[0m\n\u001b[1;32m----> 1\u001b[1;33m \u001b[0mpyttsx3\u001b[0m\u001b[1;33m.\u001b[0m\u001b[0mengine\u001b[0m\u001b[1;33m.\u001b[0m\u001b[0mEngine\u001b[0m\u001b[1;33m.\u001b[0m\u001b[0msetProperty\u001b[0m\u001b[1;33m(\u001b[0m\u001b[0mself\u001b[0m\u001b[1;33m,\u001b[0m\u001b[0mname\u001b[0m\u001b[1;33m=\u001b[0m\u001b[1;34m'voice'\u001b[0m\u001b[1;33m,\u001b[0m\u001b[0mvalue\u001b[0m\u001b[1;33m=\u001b[0m\u001b[0mvoices\u001b[0m\u001b[1;33m[\u001b[0m\u001b[1;36m1\u001b[0m\u001b[1;33m]\u001b[0m\u001b[1;33m.\u001b[0m\u001b[0mid\u001b[0m\u001b[1;33m)\u001b[0m\u001b[1;33m\u001b[0m\u001b[1;33m\u001b[0m\u001b[0m\n\u001b[0m",
      "\u001b[1;31mNameError\u001b[0m: name 'self' is not defined"
     ]
    }
   ],
   "source": []
  },
  {
   "cell_type": "code",
   "execution_count": 34,
   "metadata": {},
   "outputs": [
    {
     "data": {
      "text/plain": [
       "<pyttsx3.voice.Voice at 0x1c06a4f0be0>"
      ]
     },
     "execution_count": 34,
     "metadata": {},
     "output_type": "execute_result"
    }
   ],
   "source": []
  },
  {
   "cell_type": "code",
   "execution_count": null,
   "metadata": {},
   "outputs": [],
   "source": []
  },
  {
   "cell_type": "code",
   "execution_count": null,
   "metadata": {},
   "outputs": [],
   "source": []
  }
 ],
 "metadata": {
  "kernelspec": {
   "display_name": "Python 3",
   "language": "python",
   "name": "python3"
  },
  "language_info": {
   "codemirror_mode": {
    "name": "ipython",
    "version": 3
   },
   "file_extension": ".py",
   "mimetype": "text/x-python",
   "name": "python",
   "nbconvert_exporter": "python",
   "pygments_lexer": "ipython3",
   "version": "3.8.5"
  }
 },
 "nbformat": 4,
 "nbformat_minor": 4
}
